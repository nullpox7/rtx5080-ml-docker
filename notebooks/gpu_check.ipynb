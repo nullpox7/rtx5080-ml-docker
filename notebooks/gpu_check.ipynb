{
 "cells": [
  {
   "cell_type": "markdown",
   "metadata": {},
   "source": [
    "# RTX5080 GPU Environment Verification Notebook\n",
    "\n",
    "This notebook verifies that the RTX5080 GPU environment is properly configured."
   ]
  },
  {
   "cell_type": "markdown",
   "metadata": {},
   "source": [
    "## 1. Import Basic Libraries"
   ]
  },
  {
   "cell_type": "code",
   "execution_count": null,
   "metadata": {},
   "outputs": [],
   "source": [
    "import torch\n",
    "import tensorflow as tf\n",
    "import numpy as np\n",
    "import pandas as pd\n",
    "import matplotlib.pyplot as plt\n",
    "import seaborn as sns\n",
    "from datetime import datetime\n",
    "\n",
    "print(f\"Verification started: {datetime.now()}\")"
   ]
  },
  {
   "cell_type": "markdown",
   "metadata": {},
   "source": [
    "## 2. PyTorch GPU Verification"
   ]
  },
  {
   "cell_type": "code",
   "execution_count": null,
   "metadata": {},
   "outputs": [],
   "source": [
    "print(\"=== PyTorch GPU Verification ===\")\n",
    "print(f\"PyTorch Version: {torch.__version__}\")\n",
    "print(f\"CUDA Available: {torch.cuda.is_available()}\")\n",
    "\n",
    "if torch.cuda.is_available():\n",
    "    print(f\"GPU Count: {torch.cuda.device_count()}\")\n",
    "    print(f\"Current GPU: {torch.cuda.get_device_name(0)}\")\n",
    "    print(f\"CUDA Version: {torch.version.cuda}\")\n",
    "    print(f\"GPU Memory: {torch.cuda.get_device_properties(0).total_memory / 1024**3:.1f} GB\")\n",
    "else:\n",
    "    print(\"? CUDA is not available\")"
   ]
  },
  {
   "cell_type": "markdown",
   "metadata": {},
   "source": [
    "## 3. TensorFlow GPU Verification"
   ]
  },
  {
   "cell_type": "code",
   "execution_count": null,
   "metadata": {},
   "outputs": [],
   "source": [
    "print(\"=== TensorFlow GPU Verification ===\")\n",
    "print(f\"TensorFlow Version: {tf.__version__}\")\n",
    "\n",
    "gpus = tf.config.list_physical_devices('GPU')\n",
    "print(f\"GPU Available: {len(gpus) > 0}\")\n",
    "\n",
    "if gpus:\n",
    "    print(f\"Detected GPUs: {len(gpus)}\")\n",
    "    for i, gpu in enumerate(gpus):\n",
    "        print(f\"  GPU {i}: {gpu.name}\")\n",
    "        \n",
    "    # GPU memory info\n",
    "    try:\n",
    "        gpu_details = tf.config.experimental.get_device_details(gpus[0])\n",
    "        print(f\"GPU Details: {gpu_details}\")\n",
    "    except:\n",
    "        print(\"Failed to get GPU details\")\n",
    "else:\n",
    "    print(\"? No GPUs detected\")"
   ]
  },
  {
   "cell_type": "markdown",
   "metadata": {},
   "source": [
    "## 4. Audio Processing Library Verification"
   ]
  },
  {
   "cell_type": "code",
   "execution_count": null,
   "metadata": {},
   "outputs": [],
   "source": [
    "print(\"=== Audio Processing Library Verification ===\")\n",
    "\n",
    "try:\n",
    "    import soundfile as sf\n",
    "    print(f\"? soundfile version: {sf.__version__}\")\n",
    "    \n",
    "    # Check supported formats\n",
    "    formats = sf.available_formats()\n",
    "    print(f\"Supported formats: {len(formats)}\")\n",
    "    print(f\"Main formats: {list(formats.keys())[:5]}\")\n",
    "    \n",
    "except ImportError as e:\n",
    "    print(f\"? Failed to import soundfile: {e}\")\n",
    "\n",
    "try:\n",
    "    import librosa\n",
    "    print(f\"? librosa version: {librosa.__version__}\")\n",
    "except ImportError as e:\n",
    "    print(f\"? Failed to import librosa: {e}\")"
   ]
  },
  {
   "cell_type": "markdown",
   "metadata": {},
   "source": [
    "## 5. Simple GPU Performance Test"
   ]
  },
  {
   "cell_type": "code",
   "execution_count": null,
   "metadata": {},
   "outputs": [],
   "source": [
    "if torch.cuda.is_available():\n",
    "    print(\"=== PyTorch GPU Performance Test ===\")\n",
    "    \n",
    "    # GPU tensor operations test\n",
    "    device = torch.device('cuda')\n",
    "    \n",
    "    # Create large matrices\n",
    "    size = 5000\n",
    "    a = torch.randn(size, size, device=device)\n",
    "    b = torch.randn(size, size, device=device)\n",
    "    \n",
    "    # Time measurement\n",
    "    import time\n",
    "    start_time = time.time()\n",
    "    \n",
    "    c = torch.matmul(a, b)\n",
    "    torch.cuda.synchronize()  # Wait for GPU computation\n",
    "    \n",
    "    end_time = time.time()\n",
    "    \n",
    "    print(f\"Matrix multiplication time ({size}x{size}): {end_time - start_time:.3f} seconds\")\n",
    "    print(f\"Result tensor shape: {c.shape}\")\n",
    "    print(f\"GPU memory used: {torch.cuda.memory_allocated() / 1024**3:.2f} GB\")\n",
    "    \n",
    "    # Clear memory\n",
    "    del a, b, c\n",
    "    torch.cuda.empty_cache()\n",
    "    print(\"GPU memory cleared\")\n",
    "else:\n",
    "    print(\"? GPU not available, skipping performance test\")"
   ]
  },
  {
   "cell_type": "markdown",
   "metadata": {},
   "source": [
    "## 6. TensorFlow GPU Performance Test"
   ]
  },
  {
   "cell_type": "code",
   "execution_count": null,
   "metadata": {},
   "outputs": [],
   "source": [
    "if len(tf.config.list_physical_devices('GPU')) > 0:\n",
    "    print(\"=== TensorFlow GPU Performance Test ===\")\n",
    "    \n",
    "    with tf.device('/GPU:0'):\n",
    "        # Create large matrices\n",
    "        size = 5000\n",
    "        a = tf.random.normal([size, size])\n",
    "        b = tf.random.normal([size, size])\n",
    "        \n",
    "        # Time measurement\n",
    "        start_time = time.time()\n",
    "        \n",
    "        c = tf.matmul(a, b)\n",
    "        \n",
    "        end_time = time.time()\n",
    "        \n",
    "        print(f\"Matrix multiplication time ({size}x{size}): {end_time - start_time:.3f} seconds\")\n",
    "        print(f\"Result tensor shape: {c.shape}\")\n",
    "        print(f\"Device used: {c.device}\")\n",
    "else:\n",
    "    print(\"? TensorFlow GPU not available, skipping performance test\")"
   ]
  },
  {
   "cell_type": "markdown",
   "metadata": {},
   "source": [
    "## 7. Environment Summary"
   ]
  },
  {
   "cell_type": "code",
   "execution_count": null,
   "metadata": {},
   "outputs": [],
   "source": [
    "print(\"=== Environment Summary ===\")\n",
    "print(f\"Verification completed: {datetime.now()}\")\n",
    "print(\"\\n? Library Versions:\")\n",
    "print(f\"  Python: {__import__('sys').version.split()[0]}\")\n",
    "print(f\"  PyTorch: {torch.__version__}\")\n",
    "print(f\"  TensorFlow: {tf.__version__}\")\n",
    "print(f\"  NumPy: {np.__version__}\")\n",
    "print(f\"  Pandas: {pd.__version__}\")\n",
    "\n",
    "try:\n",
    "    import soundfile as sf\n",
    "    print(f\"  soundfile: {sf.__version__}\")\n",
    "except:\n",
    "    print(f\"  soundfile: Import error\")\n",
    "\n",
    "print(\"\\n?? GPU Information:\")\n",
    "if torch.cuda.is_available():\n",
    "    print(f\"  GPU Name: {torch.cuda.get_device_name(0)}\")\n",
    "    print(f\"  CUDA Version: {torch.version.cuda}\")\n",
    "    print(f\"  GPU Memory: {torch.cuda.get_device_properties(0).total_memory / 1024**3:.1f} GB\")\n",
    "    print(\"  ? RTX5080 GPU environment is working properly!\")\n",
    "else:\n",
    "    print(\"  ? GPU not detected\")\n",
    "\n",
    "print(\"\\n? Next Steps:\")\n",
    "print(\"  1. Place your data in the data/ directory\")\n",
    "print(\"  2. Develop ML models in notebooks/\")\n",
    "print(\"  3. Save trained models in models/\")\n",
    "print(\"  4. Output results to outputs/\")"
   ]
  }
 ],
 "metadata": {
  "kernelspec": {
   "display_name": "Python 3",
   "language": "python",
   "name": "python3"
  },
  "language_info": {
   "codemirror_mode": {
    "name": "ipython",
    "version": 3
   },
   "file_extension": ".py",
   "mimetype": "text/x-python",
   "name": "python",
   "nbconvert_exporter": "python",
   "pygments_lexer": "ipython3",
   "version": "3.11.0"
  }
 },
 "nbformat": 4,
 "nbformat_minor": 4
}

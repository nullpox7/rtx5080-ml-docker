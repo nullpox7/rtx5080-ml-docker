{
 "cells": [
  {
   "cell_type": "markdown",
   "metadata": {},
   "source": [
    "# RTX5080 GPU??????????\n",
    "\n",
    "??????????RTX5080 GPU?????????????????????????????"
   ]
  },
  {
   "cell_type": "markdown",
   "metadata": {},
   "source": [
    "## 1. ?????????????"
   ]
  },
  {
   "cell_type": "code",
   "execution_count": null,
   "metadata": {},
   "outputs": [],
   "source": [
    "import torch\n",
    "import tensorflow as tf\n",
    "import numpy as np\n",
    "import pandas as pd\n",
    "import matplotlib.pyplot as plt\n",
    "import seaborn as sns\n",
    "from datetime import datetime\n",
    "\n",
    "print(f\"??????: {datetime.now()}\")"
   ]
  },
  {
   "cell_type": "markdown",
   "metadata": {},
   "source": [
    "## 2. PyTorch GPU??"
   ]
  },
  {
   "cell_type": "code",
   "execution_count": null,
   "metadata": {},
   "outputs": [],
   "source": [
    "print(\"=== PyTorch GPU?? ===\")\n",
    "print(f\"PyTorch ?????: {torch.__version__}\")\n",
    "print(f\"CUDA ????: {torch.cuda.is_available()}\")\n",
    "\n",
    "if torch.cuda.is_available():\n",
    "    print(f\"GPU ?: {torch.cuda.device_count()}\")\n",
    "    print(f\"???GPU: {torch.cuda.get_device_name(0)}\")\n",
    "    print(f\"CUDA ?????: {torch.version.cuda}\")\n",
    "    print(f\"GPU ???: {torch.cuda.get_device_properties(0).total_memory / 1024**3:.1f} GB\")\n",
    "else:\n",
    "    print(\"? CUDA ????????\")"
   ]
  },
  {
   "cell_type": "markdown",
   "metadata": {},
   "source": [
    "## 3. TensorFlow GPU??"
   ]
  },
  {
   "cell_type": "code",
   "execution_count": null,
   "metadata": {},
   "outputs": [],
   "source": [
    "print(\"=== TensorFlow GPU?? ===\")\n",
    "print(f\"TensorFlow ?????: {tf.__version__}\")\n",
    "\n",
    "gpus = tf.config.list_physical_devices('GPU')\n",
    "print(f\"GPU ????: {len(gpus) > 0}\")\n",
    "\n",
    "if gpus:\n",
    "    print(f\"?????GPU?: {len(gpus)}\")\n",
    "    for i, gpu in enumerate(gpus):\n",
    "        print(f\"  GPU {i}: {gpu.name}\")\n",
    "        \n",
    "    # GPU ?????\n",
    "    try:\n",
    "        gpu_details = tf.config.experimental.get_device_details(gpus[0])\n",
    "        print(f\"GPU ??: {gpu_details}\")\n",
    "    except:\n",
    "        print(\"GPU??????????????\")\n",
    "else:\n",
    "    print(\"? GPU ???????????\")"
   ]
  },
  {
   "cell_type": "markdown",
   "metadata": {},
   "source": [
    "## 4. ???????????"
   ]
  },
  {
   "cell_type": "code",
   "execution_count": null,
   "metadata": {},
   "outputs": [],
   "source": [
    "print(\"=== ??????????? ===\")\n",
    "\n",
    "try:\n",
    "    import soundfile as sf\n",
    "    print(f\"? soundfile ?????: {sf.__version__}\")\n",
    "    \n",
    "    # ??????????????\n",
    "    formats = sf.available_formats()\n",
    "    print(f\"???????: {len(formats)}\")\n",
    "    print(f\"????: {list(formats.keys())[:5]}\")\n",
    "    \n",
    "except ImportError as e:\n",
    "    print(f\"? soundfile ?????????: {e}\")\n",
    "\n",
    "try:\n",
    "    import librosa\n",
    "    print(f\"? librosa ?????: {librosa.__version__}\")\n",
    "except ImportError as e:\n",
    "    print(f\"? librosa ?????????: {e}\")"
   ]
  },
  {
   "cell_type": "markdown",
   "metadata": {},
   "source": [
    "## 5. ???GPU?????"
   ]
  },
  {
   "cell_type": "code",
   "execution_count": null,
   "metadata": {},
   "outputs": [],
   "source": [
    "if torch.cuda.is_available():\n",
    "    print(\"=== PyTorch GPU????? ===\")\n",
    "    \n",
    "    # GPU????????????\n",
    "    device = torch.device('cuda')\n",
    "    \n",
    "    # ????????\n",
    "    size = 5000\n",
    "    a = torch.randn(size, size, device=device)\n",
    "    b = torch.randn(size, size, device=device)\n",
    "    \n",
    "    # ????\n",
    "    import time\n",
    "    start_time = time.time()\n",
    "    \n",
    "    c = torch.matmul(a, b)\n",
    "    torch.cuda.synchronize()  # GPU???????\n",
    "    \n",
    "    end_time = time.time()\n",
    "    \n",
    "    print(f\"??????? ({size}x{size}): {end_time - start_time:.3f} ?\")\n",
    "    print(f\"????????: {c.shape}\")\n",
    "    print(f\"GPU?????: {torch.cuda.memory_allocated() / 1024**3:.2f} GB\")\n",
    "    \n",
    "    # ??????\n",
    "    del a, b, c\n",
    "    torch.cuda.empty_cache()\n",
    "    print(\"GPU ???????????\")\n",
    "else:\n",
    "    print(\"? GPU ???????????????????????\")"
   ]
  },
  {
   "cell_type": "markdown",
   "metadata": {},
   "source": [
    "## 6. TensorFlow GPU?????"
   ]
  },
  {
   "cell_type": "code",
   "execution_count": null,
   "metadata": {},
   "outputs": [],
   "source": [
    "if len(tf.config.list_physical_devices('GPU')) > 0:\n",
    "    print(\"=== TensorFlow GPU????? ===\")\n",
    "    \n",
    "    with tf.device('/GPU:0'):\n",
    "        # ????????\n",
    "        size = 5000\n",
    "        a = tf.random.normal([size, size])\n",
    "        b = tf.random.normal([size, size])\n",
    "        \n",
    "        # ????\n",
    "        start_time = time.time()\n",
    "        \n",
    "        c = tf.matmul(a, b)\n",
    "        \n",
    "        end_time = time.time()\n",
    "        \n",
    "        print(f\"??????? ({size}x{size}): {end_time - start_time:.3f} ?\")\n",
    "        print(f\"????????: {c.shape}\")\n",
    "        print(f\"??????: {c.device}\")\n",
    "else:\n",
    "    print(\"? TensorFlow GPU ???????????????????????\")"
   ]
  },
  {
   "cell_type": "markdown",
   "metadata": {},
   "source": [
    "## 7. ???????"
   ]
  },
  {
   "cell_type": "code",
   "execution_count": null,
   "metadata": {},
   "outputs": [],
   "source": [
    "print(\"=== ??????? ===\")\n",
    "print(f\"??????: {datetime.now()}\")\n",
    "print(\"\\n? ??????????:\")\n",
    "print(f\"  Python: {__import__('sys').version.split()[0]}\")\n",
    "print(f\"  PyTorch: {torch.__version__}\")\n",
    "print(f\"  TensorFlow: {tf.__version__}\")\n",
    "print(f\"  NumPy: {np.__version__}\")\n",
    "print(f\"  Pandas: {pd.__version__}\")\n",
    "\n",
    "try:\n",
    "    import soundfile as sf\n",
    "    print(f\"  soundfile: {sf.__version__}\")\n",
    "except:\n",
    "    print(f\"  soundfile: ????????\")\n",
    "\n",
    "print(\"\\n?? GPU??:\")\n",
    "if torch.cuda.is_available():\n",
    "    print(f\"  GPU?: {torch.cuda.get_device_name(0)}\")\n",
    "    print(f\"  CUDA ?????: {torch.version.cuda}\")\n",
    "    print(f\"  GPU ???: {torch.cuda.get_device_properties(0).total_memory / 1024**3:.1f} GB\")\n",
    "    print(\"  ? RTX5080 GPU??????????????\")\n",
    "else:\n",
    "    print(\"  ? GPU ???????????\")\n",
    "\n",
    "print(\"\\n? ??????:\")\n",
    "print(\"  1. ??????? data/ ?????????\")\n",
    "print(\"  2. ???????? notebooks/ ???\")\n",
    "print(\"  3. ???????? models/ ???\")\n",
    "print(\"  4. ??? outputs/ ???\")"
   ]
  }
 ],
 "metadata": {
  "kernelspec": {
   "display_name": "Python 3",
   "language": "python",
   "name": "python3"
  },
  "language_info": {
   "codemirror_mode": {
    "name": "ipython",
    "version": 3
   },
   "file_extension": ".py",
   "mimetype": "text/x-python",
   "name": "python",
   "nbconvert_exporter": "python",
   "pygments_lexer": "ipython3",
   "version": "3.11.0"
  }
 },
 "nbformat": 4,
 "nbformat_minor": 4
}